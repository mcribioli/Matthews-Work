{
 "cells": [
  {
   "cell_type": "code",
   "execution_count": 1,
   "id": "7a3e3dff-bfe4-4c8d-aa9c-05b197f9091e",
   "metadata": {},
   "outputs": [],
   "source": [
    "import osmnx as ox\n",
    "import pandas as pd\n",
    "import plotly.express as px\n",
    "import geopandas as gpd\n",
    "import contextily as ctx\n",
    "import matplotlib.pyplot as plt\n",
    "import numpy as np"
   ]
  },
  {
   "cell_type": "code",
   "execution_count": 2,
   "id": "b7e750b1-acd5-4d3e-9db2-8555297429f8",
   "metadata": {},
   "outputs": [],
   "source": [
    "address = 'Denver County, CO'\n",
    "#This might require a for loop of the following counties\n",
    "#Boulder, Broomfield, Denver and Jefferson counties, parts of Adams, Arapahoe and Douglas Counties, and a small portion of Weld County"
   ]
  },
  {
   "cell_type": "code",
   "execution_count": 3,
   "id": "64cd9f03-98fa-4885-8f9f-60207f909188",
   "metadata": {},
   "outputs": [],
   "source": [
    "osm_bridges = ox.geometries_from_address(address, tags = {'bridge': True}, dist=72000) #dist should be 72000\n",
    "#remove not automotive bridges\n",
    "osm_bridges= osm_bridges.loc[osm_bridges['highway'] != 'footway']\n",
    "osm_bridges= osm_bridges.loc[osm_bridges['highway'] != 'steps']\n",
    "osm_bridges= osm_bridges.loc[osm_bridges['highway'] != 'cycle way']\n",
    "osm_bridges= osm_bridges.loc[osm_bridges['highway'] != 'path']\n",
    "osm_bridges= osm_bridges.loc[osm_bridges['highway'] != 'cycleway']"
   ]
  },
  {
   "cell_type": "code",
   "execution_count": 4,
   "id": "194c6368-6c1f-419b-bc68-0828ebd2b158",
   "metadata": {},
   "outputs": [
    {
     "name": "stdout",
     "output_type": "stream",
     "text": [
      "                                                                    nodes  \\\n",
      "element_type osmid                                                          \n",
      "way          42120252                              [523576743, 523576736]   \n",
      "             42120253                              [523576747, 523576749]   \n",
      "             82803807                              [177269174, 177269176]   \n",
      "             99372506                [1149365411, 1149365919, 1149365904]   \n",
      "             99372516    [1083003443, 8947636062, 1624757014, 1083003451]   \n",
      "...                                                                   ...   \n",
      "             979355358                           [9060563307, 9060563308]   \n",
      "             979355360               [9060563310, 9806780781, 9060563309]   \n",
      "             1080084337                          [9900237022, 9900237023]   \n",
      "             1124319400                        [10281497564, 10281497563]   \n",
      "             1198173930                        [11115457982, 11115457981]   \n",
      "\n",
      "                        bicycle bridge foot        highway horse  \\\n",
      "element_type osmid                                                 \n",
      "way          42120252       NaN    yes  NaN          trunk   NaN   \n",
      "             42120253       NaN    yes  NaN          trunk   NaN   \n",
      "             82803807       NaN    yes  NaN      secondary   NaN   \n",
      "             99372506       NaN    yes  NaN  tertiary_link   NaN   \n",
      "             99372516       NaN    yes  NaN          trunk   NaN   \n",
      "...                         ...    ...  ...            ...   ...   \n",
      "             979355358      NaN    yes  NaN       tertiary   NaN   \n",
      "             979355360      NaN    yes  NaN       tertiary   NaN   \n",
      "             1080084337     NaN    yes  NaN   construction   NaN   \n",
      "             1124319400     NaN    yes  NaN   unclassified   NaN   \n",
      "             1198173930     NaN    yes  NaN    residential   NaN   \n",
      "\n",
      "                                              name  \\\n",
      "element_type osmid                                   \n",
      "way          42120252    United States Highway 285   \n",
      "             42120253    United States Highway 285   \n",
      "             82803807                    Pine Road   \n",
      "             99372506                          NaN   \n",
      "             99372516    United States Highway 285   \n",
      "...                                            ...   \n",
      "             979355358             County Road 178   \n",
      "             979355360             County Road 178   \n",
      "             1080084337            County Road 136   \n",
      "             1124319400              Steele Avenue   \n",
      "             1198173930            Ramah Road West   \n",
      "\n",
      "                                                                  geometry  \\\n",
      "element_type osmid                                                           \n",
      "way          42120252    LINESTRING (-105.30592 39.52180, -105.30598 39...   \n",
      "             42120253    LINESTRING (-105.30625 39.52201, -105.30618 39...   \n",
      "             82803807    LINESTRING (-105.27675 39.39143, -105.27642 39...   \n",
      "             99372506    LINESTRING (-105.33508 39.49713, -105.33464 39...   \n",
      "             99372516    LINESTRING (-105.46091 39.43573, -105.46098 39...   \n",
      "...                                                                    ...   \n",
      "             979355358   LINESTRING (-104.65060 39.50711, -104.65188 39...   \n",
      "             979355360   LINESTRING (-104.62613 39.50694, -104.62697 39...   \n",
      "             1080084337  LINESTRING (-104.61604 39.35829, -104.61653 39...   \n",
      "             1124319400  LINESTRING (-104.66463 39.21676, -104.66507 39...   \n",
      "             1198173930  LINESTRING (-104.18378 39.11425, -104.18326 39...   \n",
      "\n",
      "                         NHS         hgv  ... reference_point ford  \\\n",
      "element_type osmid                        ...                        \n",
      "way          42120252    yes  designated  ...             NaN  NaN   \n",
      "             42120253    yes  designated  ...             NaN  NaN   \n",
      "             82803807    NaN         NaN  ...             NaN  NaN   \n",
      "             99372506    NaN         NaN  ...             NaN  NaN   \n",
      "             99372516    yes  designated  ...             NaN  NaN   \n",
      "...                      ...         ...  ...             ...  ...   \n",
      "             979355358   NaN         NaN  ...             NaN  NaN   \n",
      "             979355360   NaN         NaN  ...             NaN  NaN   \n",
      "             1080084337  NaN         NaN  ...             NaN  NaN   \n",
      "             1124319400  NaN         NaN  ...             NaN  NaN   \n",
      "             1198173930  NaN         NaN  ...             NaN  NaN   \n",
      "\n",
      "                        passenger_lines  REF alt_name_2  psv rideshare  \\\n",
      "element_type osmid                                                       \n",
      "way          42120252               NaN  NaN        NaN  NaN       NaN   \n",
      "             42120253               NaN  NaN        NaN  NaN       NaN   \n",
      "             82803807               NaN  NaN        NaN  NaN       NaN   \n",
      "             99372506               NaN  NaN        NaN  NaN       NaN   \n",
      "             99372516               NaN  NaN        NaN  NaN       NaN   \n",
      "...                                 ...  ...        ...  ...       ...   \n",
      "             979355358              NaN  NaN        NaN  NaN       NaN   \n",
      "             979355360              NaN  NaN        NaN  NaN       NaN   \n",
      "             1080084337             NaN  NaN        NaN  NaN       NaN   \n",
      "             1124319400             NaN  NaN        NaN  NaN       NaN   \n",
      "             1198173930             NaN  NaN        NaN  NaN       NaN   \n",
      "\n",
      "                        area:highway overtaking maxspeed:conditional  \n",
      "element_type osmid                                                    \n",
      "way          42120252            NaN        NaN                  NaN  \n",
      "             42120253            NaN        NaN                  NaN  \n",
      "             82803807            NaN        NaN                  NaN  \n",
      "             99372506            NaN        NaN                  NaN  \n",
      "             99372516            NaN        NaN                  NaN  \n",
      "...                              ...        ...                  ...  \n",
      "             979355358           NaN        NaN                  NaN  \n",
      "             979355360           NaN        NaN                  NaN  \n",
      "             1080084337          NaN        NaN                  NaN  \n",
      "             1124319400          NaN        NaN                  NaN  \n",
      "             1198173930          NaN        NaN                  NaN  \n",
      "\n",
      "[4947 rows x 297 columns]\n"
     ]
    }
   ],
   "source": [
    "#Use this to check which bridges were captured by OSM\n",
    "print(osm_bridges)"
   ]
  },
  {
   "cell_type": "code",
   "execution_count": 5,
   "id": "462b10ee-908e-4368-92a4-be9b4c3a98a7",
   "metadata": {},
   "outputs": [
    {
     "name": "stderr",
     "output_type": "stream",
     "text": [
      "C:\\Users\\Matucoco\\AppData\\Local\\Temp\\ipykernel_9552\\4070958601.py:1: UserWarning: Geometry is in a geographic CRS. Results from 'buffer' are likely incorrect. Use 'GeoSeries.to_crs()' to re-project geometries to a projected CRS before this operation.\n",
      "\n",
      "  osm_bridges['geometry'] = osm_bridges.buffer(.0002)\n"
     ]
    }
   ],
   "source": [
    "osm_bridges['geometry'] = osm_bridges.buffer(.0002)"
   ]
  },
  {
   "cell_type": "code",
   "execution_count": 6,
   "id": "8551bc6b-f8b4-4c59-8382-701c9c717ed1",
   "metadata": {},
   "outputs": [
    {
     "data": {
      "text/plain": [
       "<Axes: >"
      ]
     },
     "execution_count": 6,
     "metadata": {},
     "output_type": "execute_result"
    },
    {
     "data": {
      "image/png": "[encoded data removed]",
      "text/plain": [
       "<Figure size 640x480 with 1 Axes>"
      ]
     },
     "metadata": {},
     "output_type": "display_data"
    }
   ],
   "source": [
    "osm_bridges.plot()"
   ]
  },
  {
   "cell_type": "code",
   "execution_count": 7,
   "id": "c02b500c-900b-450e-b44e-a860a05e85e7",
   "metadata": {},
   "outputs": [],
   "source": [
    "file_name='shape_routes_elevation'"
   ]
  },
  {
   "cell_type": "code",
   "execution_count": 8,
   "id": "60a81ed4-2791-48c0-a690-0f3ca6f68210",
   "metadata": {},
   "outputs": [],
   "source": [
    "#bring in bus routes with bad USGS elevation data\n",
    "bus_routes= gpd.read_file(f'{file_name}.zip')\n",
    "#bus_routes.head()"
   ]
  },
  {
   "cell_type": "code",
   "execution_count": 9,
   "id": "94350799-ab42-4f6e-b1fb-80cba89a95b0",
   "metadata": {},
   "outputs": [
    {
     "name": "stdout",
     "output_type": "stream",
     "text": [
      "epsg:4326\n",
      "EPSG:4326\n"
     ]
    }
   ],
   "source": [
    "#Check the crs of the bus and bridge data\n",
    "\n",
    "bus_routes = bus_routes.to_crs(\"EPSG:4326\")\n",
    "print(osm_bridges.crs)\n",
    "print(bus_routes.crs)"
   ]
  },
  {
   "cell_type": "code",
   "execution_count": 10,
   "id": "3189972a-bd20-46df-92b2-6b94a7e5d582",
   "metadata": {},
   "outputs": [
    {
     "data": {
      "text/html": [
       "<div>\n",
       "<style scoped>\n",
       "    .dataframe tbody tr th:only-of-type {\n",
       "        vertical-align: middle;\n",
       "    }\n",
       "\n",
       "    .dataframe tbody tr th {\n",
       "        vertical-align: top;\n",
       "    }\n",
       "\n",
       "    .dataframe thead th {\n",
       "        text-align: right;\n",
       "    }\n",
       "</style>\n",
       "<table border=\"1\" class=\"dataframe\">\n",
       "  <thead>\n",
       "    <tr style=\"text-align: right;\">\n",
       "      <th></th>\n",
       "      <th>cat</th>\n",
       "      <th>cat_</th>\n",
       "      <th>shape_id</th>\n",
       "      <th>begin</th>\n",
       "      <th>end</th>\n",
       "      <th>shapes_joi</th>\n",
       "      <th>shapes_j_1</th>\n",
       "      <th>length</th>\n",
       "      <th>z_start</th>\n",
       "      <th>z_end</th>\n",
       "      <th>slope</th>\n",
       "      <th>geometry</th>\n",
       "    </tr>\n",
       "  </thead>\n",
       "  <tbody>\n",
       "    <tr>\n",
       "      <th>0</th>\n",
       "      <td>1</td>\n",
       "      <td>1</td>\n",
       "      <td>1252641</td>\n",
       "      <td>1</td>\n",
       "      <td>1078</td>\n",
       "      <td>DASH</td>\n",
       "      <td>1</td>\n",
       "      <td>152.306</td>\n",
       "      <td>1585.819</td>\n",
       "      <td>1586.263</td>\n",
       "      <td>0.003</td>\n",
       "      <td>LINESTRING Z (-105.08973 39.98859 1585.81934, ...</td>\n",
       "    </tr>\n",
       "    <tr>\n",
       "      <th>1</th>\n",
       "      <td>2</td>\n",
       "      <td>1</td>\n",
       "      <td>1252641</td>\n",
       "      <td>1</td>\n",
       "      <td>1078</td>\n",
       "      <td>DASH</td>\n",
       "      <td>1</td>\n",
       "      <td>152.306</td>\n",
       "      <td>1586.263</td>\n",
       "      <td>1586.207</td>\n",
       "      <td>-0.000</td>\n",
       "      <td>LINESTRING Z (-105.09053 39.98777 1586.26257, ...</td>\n",
       "    </tr>\n",
       "    <tr>\n",
       "      <th>2</th>\n",
       "      <td>3</td>\n",
       "      <td>1</td>\n",
       "      <td>1252641</td>\n",
       "      <td>1</td>\n",
       "      <td>1078</td>\n",
       "      <td>DASH</td>\n",
       "      <td>1</td>\n",
       "      <td>152.306</td>\n",
       "      <td>1586.207</td>\n",
       "      <td>1587.204</td>\n",
       "      <td>0.007</td>\n",
       "      <td>LINESTRING Z (-105.09128 39.98698 1586.20740, ...</td>\n",
       "    </tr>\n",
       "    <tr>\n",
       "      <th>3</th>\n",
       "      <td>4</td>\n",
       "      <td>1</td>\n",
       "      <td>1252641</td>\n",
       "      <td>1</td>\n",
       "      <td>1078</td>\n",
       "      <td>DASH</td>\n",
       "      <td>1</td>\n",
       "      <td>152.306</td>\n",
       "      <td>1587.204</td>\n",
       "      <td>1588.533</td>\n",
       "      <td>0.009</td>\n",
       "      <td>LINESTRING Z (-105.09306 39.98699 1587.20410, ...</td>\n",
       "    </tr>\n",
       "    <tr>\n",
       "      <th>4</th>\n",
       "      <td>5</td>\n",
       "      <td>1</td>\n",
       "      <td>1252641</td>\n",
       "      <td>1</td>\n",
       "      <td>1078</td>\n",
       "      <td>DASH</td>\n",
       "      <td>1</td>\n",
       "      <td>152.306</td>\n",
       "      <td>1588.533</td>\n",
       "      <td>1590.076</td>\n",
       "      <td>0.010</td>\n",
       "      <td>LINESTRING Z (-105.09485 39.98700 1588.53345, ...</td>\n",
       "    </tr>\n",
       "  </tbody>\n",
       "</table>\n",
       "</div>"
      ],
      "text/plain": [
       "   cat  cat_  shape_id  begin   end shapes_joi shapes_j_1   length   z_start  \\\n",
       "0    1     1   1252641      1  1078       DASH          1  152.306  1585.819   \n",
       "1    2     1   1252641      1  1078       DASH          1  152.306  1586.263   \n",
       "2    3     1   1252641      1  1078       DASH          1  152.306  1586.207   \n",
       "3    4     1   1252641      1  1078       DASH          1  152.306  1587.204   \n",
       "4    5     1   1252641      1  1078       DASH          1  152.306  1588.533   \n",
       "\n",
       "      z_end  slope                                           geometry  \n",
       "0  1586.263  0.003  LINESTRING Z (-105.08973 39.98859 1585.81934, ...  \n",
       "1  1586.207 -0.000  LINESTRING Z (-105.09053 39.98777 1586.26257, ...  \n",
       "2  1587.204  0.007  LINESTRING Z (-105.09128 39.98698 1586.20740, ...  \n",
       "3  1588.533  0.009  LINESTRING Z (-105.09306 39.98699 1587.20410, ...  \n",
       "4  1590.076  0.010  LINESTRING Z (-105.09485 39.98700 1588.53345, ...  "
      ]
     },
     "execution_count": 10,
     "metadata": {},
     "output_type": "execute_result"
    }
   ],
   "source": [
    "#bus_routes = bus_routes.rename(columns={\"geometry\": \"geometry_route\"})\n",
    "bus_routes.head()\n"
   ]
  },
  {
   "cell_type": "code",
   "execution_count": null,
   "id": "1c562f47-9e4a-431b-884a-adaf645c167f",
   "metadata": {},
   "outputs": [],
   "source": [
    "#mark bus route segements that cross a bridge\n",
    "bus_routes['bridge_check']=bus_routes.within(osm_bridges.unary_union) "
   ]
  },
  {
   "cell_type": "code",
   "execution_count": null,
   "id": "b65e014a-d737-401a-be4d-cb12c5ed159f",
   "metadata": {},
   "outputs": [],
   "source": [
    "print(bus_routes.groupby('bridge_check').size()) #check that the bus routes are marked properly"
   ]
  },
  {
   "cell_type": "code",
   "execution_count": null,
   "id": "30dba766-e357-484b-afaf-b59bd342fefa",
   "metadata": {},
   "outputs": [],
   "source": [
    "bus_routes.head()"
   ]
  },
  {
   "cell_type": "code",
   "execution_count": null,
   "id": "42e51bea-94af-4c12-a7a9-f522dac3d797",
   "metadata": {},
   "outputs": [],
   "source": [
    "#Create a new columns that sets slope to zero if a bridge is crossed\n",
    "bus_routes['slope_bridgeless'] = bus_routes['slope']\n",
    "bus_routes.loc[bus_routes['bridge_check'] == True, 'slope_bridgeless'] = 0\n"
   ]
  },
  {
   "cell_type": "code",
   "execution_count": null,
   "id": "50e82f96-8757-4cd9-929b-529efbeae104",
   "metadata": {},
   "outputs": [],
   "source": [
    "#Check that slopes were set to zero\n",
    "bus_routes.loc[bus_routes['bridge_check'] == True].head()"
   ]
  },
  {
   "cell_type": "code",
   "execution_count": null,
   "id": "c8d748c6-d915-4467-a092-bd0b8874076a",
   "metadata": {},
   "outputs": [],
   "source": [
    "#save to shapefile\n",
    "bus_routes.to_file(f'{file_name}_bridge_fix.shp.zip', driver='ESRI Shapefile')"
   ]
  },
  {
   "cell_type": "code",
   "execution_count": null,
   "id": "5cd7427b-fc2a-4535-a06e-95c6625efd85",
   "metadata": {},
   "outputs": [],
   "source": [
    "fig, ax = plt.subplots(figsize=(20, 20))\n",
    "osm_bridges.plot(ax=ax, color = 'blue')\n",
    "bus_routes.plot(ax=ax, color = 'red')\n",
    "ax.set_axis_off()\n",
    "ctx.add_basemap(ax,\n",
    "               crs=osm_bridges.crs.to_string(),\n",
    "               source=ctx.providers.OpenStreetMap.Mapnik\n",
    "              )\n",
    "ax.set_title(f\"Denver Routes and Bridges\")\n",
    "plt.draw()"
   ]
  },
  {
   "cell_type": "code",
   "execution_count": null,
   "id": "19deaba5-6ac6-4a68-a45b-dda66c5bf1cf",
   "metadata": {},
   "outputs": [],
   "source": []
  }
 ],
 "metadata": {
  "kernelspec": {
   "display_name": "Python 3 (ipykernel)",
   "language": "python",
   "name": "python3"
  },
  "language_info": {
   "codemirror_mode": {
    "name": "ipython",
    "version": 3
   },
   "file_extension": ".py",
   "mimetype": "text/x-python",
   "name": "python",
   "nbconvert_exporter": "python",
   "pygments_lexer": "ipython3",
   "version": "3.10.9"
  }
 },
 "nbformat": 4,
 "nbformat_minor": 5
}
