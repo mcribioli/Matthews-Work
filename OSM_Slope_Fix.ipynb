{
 "cells": [
  {
   "cell_type": "code",
   "execution_count": 1,
   "id": "7a3e3dff-bfe4-4c8d-aa9c-05b197f9091e",
   "metadata": {},
   "outputs": [],
   "source": [
    "import osmnx as ox\n",
    "import pandas as pd\n",
    "import plotly.express as px\n",
    "import geopandas as gpd\n",
    "import contextily as ctx\n",
    "import matplotlib.pyplot as plt"
   ]
  },
  {
   "cell_type": "code",
   "execution_count": 2,
   "id": "b7e750b1-acd5-4d3e-9db2-8555297429f8",
   "metadata": {},
   "outputs": [],
   "source": [
    "address = 'Denver County, CO'\n",
    "#This might require a for loop of the following counties\n",
    "#Boulder, Broomfield, Denver and Jefferson counties, parts of Adams, Arapahoe and Douglas Counties, and a small portion of Weld County"
   ]
  },
  {
   "cell_type": "code",
   "execution_count": 26,
   "id": "64cd9f03-98fa-4885-8f9f-60207f909188",
   "metadata": {},
   "outputs": [
    {
     "name": "stderr",
     "output_type": "stream",
     "text": [
      "C:\\Users\\Matucoco\\UP_anaconda3\\lib\\site-packages\\pandas\\core\\dtypes\\cast.py:1641: DeprecationWarning: np.find_common_type is deprecated.  Please use `np.result_type` or `np.promote_types`.\n",
      "See https://numpy.org/devdocs/release/1.25.0-notes.html and the docs for more information.  (Deprecated NumPy 1.25)\n",
      "  return np.find_common_type(types, [])\n",
      "C:\\Users\\Matucoco\\UP_anaconda3\\lib\\site-packages\\pandas\\core\\dtypes\\cast.py:1641: DeprecationWarning: np.find_common_type is deprecated.  Please use `np.result_type` or `np.promote_types`.\n",
      "See https://numpy.org/devdocs/release/1.25.0-notes.html and the docs for more information.  (Deprecated NumPy 1.25)\n",
      "  return np.find_common_type(types, [])\n",
      "C:\\Users\\Matucoco\\UP_anaconda3\\lib\\site-packages\\pandas\\core\\algorithms.py:522: DeprecationWarning: np.find_common_type is deprecated.  Please use `np.result_type` or `np.promote_types`.\n",
      "See https://numpy.org/devdocs/release/1.25.0-notes.html and the docs for more information.  (Deprecated NumPy 1.25)\n",
      "  common = np.find_common_type([values.dtype, comps_array.dtype], [])\n"
     ]
    }
   ],
   "source": [
    "osm_bridges = ox.geometries_from_address(address, tags = {'bridge': True}, dist=1000) #dist should be 72000"
   ]
  },
  {
   "cell_type": "code",
   "execution_count": 30,
   "id": "194c6368-6c1f-419b-bc68-0828ebd2b158",
   "metadata": {},
   "outputs": [],
   "source": [
    "#Use this to check which bridges were captured by OSM\n",
    "#print(osm_bridges)"
   ]
  },
  {
   "cell_type": "code",
   "execution_count": 27,
   "id": "462b10ee-908e-4368-92a4-be9b4c3a98a7",
   "metadata": {},
   "outputs": [
    {
     "name": "stderr",
     "output_type": "stream",
     "text": [
      "C:\\Users\\Matucoco\\AppData\\Local\\Temp\\ipykernel_9816\\878201805.py:1: UserWarning: Geometry is in a geographic CRS. Results from 'buffer' are likely incorrect. Use 'GeoSeries.to_crs()' to re-project geometries to a projected CRS before this operation.\n",
      "\n",
      "  osm_bridges = osm_bridges.buffer(.0002)\n"
     ]
    }
   ],
   "source": [
    "osm_bridges = osm_bridges.buffer(.0002)"
   ]
  },
  {
   "cell_type": "code",
   "execution_count": 28,
   "id": "8551bc6b-f8b4-4c59-8382-701c9c717ed1",
   "metadata": {},
   "outputs": [
    {
     "data": {
      "text/plain": [
       "<Axes: >"
      ]
     },
     "execution_count": 28,
     "metadata": {},
     "output_type": "execute_result"
    },
    {
     "data": {
      "image/png": "[encoded data removed]",
      "text/plain": [
       "<Figure size 640x480 with 1 Axes>"
      ]
     },
     "metadata": {},
     "output_type": "display_data"
    }
   ],
   "source": [
    "osm_bridges.plot()"
   ]
  },
  {
   "cell_type": "code",
   "execution_count": 29,
   "id": "60a81ed4-2791-48c0-a690-0f3ca6f68210",
   "metadata": {},
   "outputs": [
    {
     "data": {
      "text/html": [
       "<div>\n",
       "<style scoped>\n",
       "    .dataframe tbody tr th:only-of-type {\n",
       "        vertical-align: middle;\n",
       "    }\n",
       "\n",
       "    .dataframe tbody tr th {\n",
       "        vertical-align: top;\n",
       "    }\n",
       "\n",
       "    .dataframe thead th {\n",
       "        text-align: right;\n",
       "    }\n",
       "</style>\n",
       "<table border=\"1\" class=\"dataframe\">\n",
       "  <thead>\n",
       "    <tr style=\"text-align: right;\">\n",
       "      <th></th>\n",
       "      <th>cat</th>\n",
       "      <th>cat_</th>\n",
       "      <th>shape_id</th>\n",
       "      <th>begin</th>\n",
       "      <th>end</th>\n",
       "      <th>shapes_joi</th>\n",
       "      <th>shapes_j_1</th>\n",
       "      <th>length</th>\n",
       "      <th>z_start</th>\n",
       "      <th>z_end</th>\n",
       "      <th>slope</th>\n",
       "      <th>geometry</th>\n",
       "    </tr>\n",
       "  </thead>\n",
       "  <tbody>\n",
       "    <tr>\n",
       "      <th>0</th>\n",
       "      <td>1</td>\n",
       "      <td>1</td>\n",
       "      <td>1252641</td>\n",
       "      <td>1</td>\n",
       "      <td>1078</td>\n",
       "      <td>DASH</td>\n",
       "      <td>1</td>\n",
       "      <td>152.306</td>\n",
       "      <td>1585.819</td>\n",
       "      <td>1586.263</td>\n",
       "      <td>0.003</td>\n",
       "      <td>LINESTRING Z (492339.825 4426494.121 1585.819,...</td>\n",
       "    </tr>\n",
       "    <tr>\n",
       "      <th>1</th>\n",
       "      <td>2</td>\n",
       "      <td>1</td>\n",
       "      <td>1252641</td>\n",
       "      <td>1</td>\n",
       "      <td>1078</td>\n",
       "      <td>DASH</td>\n",
       "      <td>1</td>\n",
       "      <td>152.306</td>\n",
       "      <td>1586.263</td>\n",
       "      <td>1586.207</td>\n",
       "      <td>-0.000</td>\n",
       "      <td>LINESTRING Z (492271.428 4426403.240 1586.263,...</td>\n",
       "    </tr>\n",
       "    <tr>\n",
       "      <th>2</th>\n",
       "      <td>3</td>\n",
       "      <td>1</td>\n",
       "      <td>1252641</td>\n",
       "      <td>1</td>\n",
       "      <td>1078</td>\n",
       "      <td>DASH</td>\n",
       "      <td>1</td>\n",
       "      <td>152.306</td>\n",
       "      <td>1586.207</td>\n",
       "      <td>1587.204</td>\n",
       "      <td>0.007</td>\n",
       "      <td>LINESTRING Z (492206.889 4426316.327 1586.207,...</td>\n",
       "    </tr>\n",
       "    <tr>\n",
       "      <th>3</th>\n",
       "      <td>4</td>\n",
       "      <td>1</td>\n",
       "      <td>1252641</td>\n",
       "      <td>1</td>\n",
       "      <td>1078</td>\n",
       "      <td>DASH</td>\n",
       "      <td>1</td>\n",
       "      <td>152.306</td>\n",
       "      <td>1587.204</td>\n",
       "      <td>1588.533</td>\n",
       "      <td>0.009</td>\n",
       "      <td>LINESTRING Z (492054.650 4426317.496 1587.204,...</td>\n",
       "    </tr>\n",
       "    <tr>\n",
       "      <th>4</th>\n",
       "      <td>5</td>\n",
       "      <td>1</td>\n",
       "      <td>1252641</td>\n",
       "      <td>1</td>\n",
       "      <td>1078</td>\n",
       "      <td>DASH</td>\n",
       "      <td>1</td>\n",
       "      <td>152.306</td>\n",
       "      <td>1588.533</td>\n",
       "      <td>1590.076</td>\n",
       "      <td>0.010</td>\n",
       "      <td>LINESTRING Z (491902.411 4426318.850 1588.533,...</td>\n",
       "    </tr>\n",
       "  </tbody>\n",
       "</table>\n",
       "</div>"
      ],
      "text/plain": [
       "   cat  cat_  shape_id  begin   end shapes_joi shapes_j_1   length   z_start  \\\n",
       "0    1     1   1252641      1  1078       DASH          1  152.306  1585.819   \n",
       "1    2     1   1252641      1  1078       DASH          1  152.306  1586.263   \n",
       "2    3     1   1252641      1  1078       DASH          1  152.306  1586.207   \n",
       "3    4     1   1252641      1  1078       DASH          1  152.306  1587.204   \n",
       "4    5     1   1252641      1  1078       DASH          1  152.306  1588.533   \n",
       "\n",
       "      z_end  slope                                           geometry  \n",
       "0  1586.263  0.003  LINESTRING Z (492339.825 4426494.121 1585.819,...  \n",
       "1  1586.207 -0.000  LINESTRING Z (492271.428 4426403.240 1586.263,...  \n",
       "2  1587.204  0.007  LINESTRING Z (492206.889 4426316.327 1586.207,...  \n",
       "3  1588.533  0.009  LINESTRING Z (492054.650 4426317.496 1587.204,...  \n",
       "4  1590.076  0.010  LINESTRING Z (491902.411 4426318.850 1588.533,...  "
      ]
     },
     "execution_count": 29,
     "metadata": {},
     "output_type": "execute_result"
    }
   ],
   "source": [
    "#bring in bus routes with bad USGS elevation data\n",
    "bus_routes= gpd.read_file('shape_routes_elevation.zip')\n",
    "#bus_routes.head()"
   ]
  },
  {
   "cell_type": "code",
   "execution_count": 38,
   "id": "94350799-ab42-4f6e-b1fb-80cba89a95b0",
   "metadata": {},
   "outputs": [
    {
     "name": "stdout",
     "output_type": "stream",
     "text": [
      "EPSG:32613\n"
     ]
    }
   ],
   "source": [
    "#Check the crs of the bus and bridge data\n",
    "osm_bridges = osm_bridges.to_crs(\"EPSG:32613\")\n",
    "print(osm_bridges.crs)\n",
    "print(bus_routes.crs)"
   ]
  },
  {
   "cell_type": "code",
   "execution_count": 39,
   "id": "1c562f47-9e4a-431b-884a-adaf645c167f",
   "metadata": {},
   "outputs": [
    {
     "ename": "SyntaxError",
     "evalue": "cannot assign to function call here. Maybe you meant '==' instead of '='? (2722302000.py, line 2)",
     "output_type": "error",
     "traceback": [
      "\u001b[1;36m  Cell \u001b[1;32mIn[39], line 2\u001b[1;36m\u001b[0m\n\u001b[1;33m    if osm_bridges.contains(bus_routes).any()=1\u001b[0m\n\u001b[1;37m       ^\u001b[0m\n\u001b[1;31mSyntaxError\u001b[0m\u001b[1;31m:\u001b[0m cannot assign to function call here. Maybe you meant '==' instead of '='?\n"
     ]
    }
   ],
   "source": [
    "def intersects_bridge(row):\n",
    "    if osm_bridges.contains(bus_routes).any()=1 \n",
    "        x= 0 \n",
    "    else x= bus_routes['slope']\n",
    "    return x\n",
    "\n",
    "bus_routes['slope'] = df.apply(intersects_bridge, axis=1)"
   ]
  },
  {
   "cell_type": "code",
   "execution_count": null,
   "id": "19deaba5-6ac6-4a68-a45b-dda66c5bf1cf",
   "metadata": {},
   "outputs": [],
   "source": []
  }
 ],
 "metadata": {
  "kernelspec": {
   "display_name": "Python 3 (ipykernel)",
   "language": "python",
   "name": "python3"
  },
  "language_info": {
   "codemirror_mode": {
    "name": "ipython",
    "version": 3
   },
   "file_extension": ".py",
   "mimetype": "text/x-python",
   "name": "python",
   "nbconvert_exporter": "python",
   "pygments_lexer": "ipython3",
   "version": "3.10.9"
  }
 },
 "nbformat": 4,
 "nbformat_minor": 5
}
